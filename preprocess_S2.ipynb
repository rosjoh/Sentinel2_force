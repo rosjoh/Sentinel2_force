{
 "cells": [
  {
   "cell_type": "code",
   "execution_count": 9,
   "metadata": {},
   "outputs": [],
   "source": [
    "# imports\n",
    "import os\n",
    "\n",
    "import subprocess\n",
    "from matplotlib import pyplot as plt\n",
    "import numpy as np\n",
    "from osgeo import gdal\n",
    "\n",
    "os.chdir(\"/home/fegeo/member/jrosentreter/deepSpace/lastMission/data\")\n",
    "\n",
    "inputDir = \"/home/fegeo/member/jrosentreter/deepSpace/lastMission/input\""
   ]
  },
  {
   "cell_type": "code",
   "execution_count": 2,
   "metadata": {},
   "outputs": [],
   "source": [
    "### berlin setup\n",
    "studyArea = \"berlin\"\n",
    "bounds = (372154.17, 5809415.98, 407255.92, 5830881.18)\n",
    "boundingbox = \"13.12/52.41,13.63/52.41,13.63/52.62,13.22/52.62,13.12/52.41\""
   ]
  },
  {
   "cell_type": "code",
   "execution_count": null,
   "metadata": {},
   "outputs": [],
   "source": [
    "### munich setup\n",
    "studyArea = \"munich\"\n",
    "bounds = (670852.02, 5317726.34, 709249.79, 5350154.77)\n",
    "boundingbox = \"11.29/48.27,11.82/48.27,11.82/47.99,11.29/47.99,11.29/48.27\""
   ]
  },
  {
   "cell_type": "code",
   "execution_count": null,
   "metadata": {},
   "outputs": [],
   "source": [
    "### frankfurt setup\n",
    "studyArea = \"frankfurt\"\n",
    "bounds = (469176.82, 5537607.45, 489296.84, 5561990.65)\n",
    "boundingbox = \"8.57/50.21,8.85/50.21,8.85/49.99,8.50/49.99,8.50/50.21\""
   ]
  },
  {
   "cell_type": "code",
   "execution_count": null,
   "metadata": {},
   "outputs": [],
   "source": [
    "### rostock setup\n",
    "studyArea = \"rostock\"\n",
    "bounds = (303567.76, 5992136.26, 319277.76, 6008205.39)\n",
    "boundingbox = \"12.00/54.19,12.23/54.19,12.23/54.04,12.00/54.04,12.00/54.19\""
   ]
  },
  {
   "cell_type": "code",
   "execution_count": null,
   "metadata": {},
   "outputs": [],
   "source": [
    "### cologne setup\n",
    "studyArea = \"cologne\"\n",
    "bounds = (340744.18, 5630019.09, 371059.16, 5658107.77)\n",
    "boundingbox = \"6.74/51.06,7.16/51.06,7.16/50.80,6.74/50.80,6.74/51.06\""
   ]
  },
  {
   "cell_type": "code",
   "execution_count": null,
   "metadata": {},
   "outputs": [],
   "source": [
    "### hamburg setup\n",
    "studyArea = \"hamburg\"\n",
    "bounds = (547228.61, 5914778.62, 583222.55, 5948656.61)\n",
    "boundingbox = \"9.71/53.68,10.26/53.68,10.26/53.38,9.71/53.38,9.71/53.68\""
   ]
  },
  {
   "cell_type": "code",
   "execution_count": null,
   "metadata": {},
   "outputs": [],
   "source": [
    "### dortmund setup\n",
    "studyArea = \"dortmund\"\n",
    "bounds = (378266.23, 5695761.03, 408617.85, 5719600.15)\n",
    "boundingbox = \"7.25/51.62,7.68/51.62,7.68/51.40,7.25/51.40,7.25/51.62\""
   ]
  },
  {
   "cell_type": "code",
   "execution_count": null,
   "metadata": {},
   "outputs": [],
   "source": [
    "# muenster setup\n",
    "studyArea = \"muenster\"\n",
    "bounds = (398151.04, 5749838.93, 412148.65, 5762923.89)\n",
    "boundingbox = \"7.52/52.01,7.72/52.01,7.72/51.89,7.52/51.89,7.52/52.01\""
   ]
  },
  {
   "cell_type": "code",
   "execution_count": null,
   "metadata": {},
   "outputs": [],
   "source": [
    "# download S2 files\n",
    "if not os.path.exists(studyArea):\n",
    "    subprocess.call([\"mkdir\", studyArea])\n",
    "    \n",
    "command = \"/home/fegeo/member/jrosentreter/deepSpace/force/bin/force-level1-sentinel2\"\n",
    "level_1_datapool = os.path.join(os.getcwd(), studyArea)\n",
    "queue = os.path.join(os.getcwd(), studyArea + \".pool\")\n",
    "subprocess.call([command, level_1_datapool, queue, boundingbox, \"2017-04-01\", \"2017-10-31\", \"0\", \"100\"])"
   ]
  },
  {
   "cell_type": "code",
   "execution_count": null,
   "metadata": {},
   "outputs": [],
   "source": [
    "# generate blank parameter file\n",
    "#command = \"/home/fegeo/member/jrosentreter/deepSpace/force/bin/force-parameter-level2\"\n",
    "#subprocess.call([command, os.getcwd()])"
   ]
  },
  {
   "cell_type": "code",
   "execution_count": null,
   "metadata": {},
   "outputs": [],
   "source": [
    "# process S2 files\n",
    "if not os.path.exists(\"tmp\"):\n",
    "    subprocess.call([\"mkdir\", \"tmp\"])\n",
    "\n",
    "queue = os.path.join(os.getcwd(), studyArea + \".pool\")\n",
    "command = \"/home/fegeo/member/jrosentreter/deepSpace/force/bin/force-l2ps\"\n",
    "par_file = os.path.join(os.getcwd(), studyArea + \".prm\")\n",
    "\n",
    "with open(queue) as f:\n",
    "    content = f.readlines()\n",
    "content = [x.strip().split(\" \")[0] for x in content]\n",
    "\n",
    "l = list(range(len(content)))\n",
    "parts = l[0::25]\n",
    "if parts[-1] is not len(content):\n",
    "    parts.append(len(content))\n",
    "\n",
    "for i in range(len(parts)-1):\n",
    "    doNow = content[parts[i]:parts[i+1]]\n",
    "    print(\"batch\", i+1, \"/\", len(parts)-1)\n",
    "    procs = [subprocess.Popen([command, L1_image, par_file]) for L1_image in doNow]\n",
    "    for p in procs:\n",
    "        p.wait()"
   ]
  },
  {
   "cell_type": "code",
   "execution_count": null,
   "metadata": {},
   "outputs": [],
   "source": [
    "# inflate qai tiffs\n",
    "command = \"/home/fegeo/member/jrosentreter/deepSpace/force/bin/force-qai-inflate\"\n",
    "\n",
    "qaiFiles = []\n",
    "for d in os.listdir(os.path.join(os.getcwd(), studyArea)):\n",
    "    for f in os.listdir(os.path.join(studyArea, d)):\n",
    "        if f.endswith(\"QAI.tif\"):\n",
    "            qaiFiles.append(os.path.join(os.getcwd(), studyArea, d, f))\n",
    "\n",
    "l = list(range(len(qaiFiles)))\n",
    "parts = l[0::25]\n",
    "if parts[-1] is not len(qaiFiles):\n",
    "    parts.append(len(qaiFiles))\n",
    "\n",
    "for i in range(len(parts)-1):\n",
    "    doNow = qaiFiles[parts[i]:parts[i+1]]\n",
    "    print(\"batch\", i+1, \"/\", len(parts)-1)\n",
    "    procs = [subprocess.Popen([command, qai, qai.rsplit(\"/\", 1)[0], \"GTiff\"]) for qai in doNow]\n",
    "    for p in procs:\n",
    "        p.wait()"
   ]
  },
  {
   "cell_type": "code",
   "execution_count": null,
   "metadata": {},
   "outputs": [],
   "source": [
    "# spatial subset, qai flag check and band separating\n",
    "def exportBand(band, outputname, img, array):\n",
    "    outputName = os.path.join(os.getcwd(), studyArea, studyArea + \"_{:02d}\".format(band) + \"_\" + outputname + \".tif\")\n",
    "    driver = gdal.GetDriverByName(\"GTiff\")\n",
    "    dataset = driver.Create(outputName, img.RasterXSize, img.RasterYSize, 1, gdal.GDT_Float32)\n",
    "    dataset.SetGeoTransform(img.GetGeoTransform())\n",
    "    dataset.SetProjection(img.GetProjection())\n",
    "    dataset.GetRasterBand(1).WriteArray(array)\n",
    "    dataset = None\n",
    "    \n",
    "# get list of all scenes\n",
    "scenes = []\n",
    "for d in os.listdir(os.path.join(os.getcwd(), studyArea)):\n",
    "    for f in os.listdir(os.path.join(studyArea, d)):\n",
    "        if f.endswith(\"BOA.tif\"):\n",
    "            scenes.append(os.path.join(os.getcwd(), studyArea, d, f))\n",
    "print(len(scenes), \"scenes\")\n",
    "\n",
    "# import both image and qai to memory and subset\n",
    "ds = gdal.BuildVRT(srcDSOrSrcDSTab = scenes[0], destName = \"\", outputBounds = bounds)\n",
    "omega = np.empty((len(scenes), ds.RasterYSize, ds.RasterXSize), dtype=np.float)\n",
    "omega[:] = np.nan\n",
    "\n",
    "coverage = np.zeros((ds.RasterYSize, ds.RasterXSize))\n",
    "\n",
    "for b in range(1, ds.ReadAsArray().shape[0] + 1):\n",
    "    print(\"band:\", b)\n",
    "    for idx, s in enumerate(scenes):\n",
    "        img_ds = gdal.BuildVRT(srcDSOrSrcDSTab = s, destName = \"\", outputBounds = bounds)\n",
    "        img = img_ds.GetRasterBand(b).ReadAsArray().astype(np.float)\n",
    "\n",
    "        qim_ds = gdal.BuildVRT(srcDSOrSrcDSTab = s[:-7] + \"QIM.tif\", destName = \"\", outputBounds = bounds)\n",
    "        qim = qim_ds.ReadAsArray()\n",
    "\n",
    "        # evaluate quality flags\n",
    "        img[img == -9999] = np.nan\n",
    "        img[img < 0 ] = 0\n",
    "        mask = (qim[0] != 0) | (qim[1] != 0) | (qim[2] != 0) | (qim[3] != 0)\n",
    "        img[mask] = np.nan\n",
    "\n",
    "        omega[idx, :, :] = img\n",
    "        \n",
    "        coverage += (np.isnan(img) == False).astype(np.int16)\n",
    "\n",
    "    exportBand(b, \"mea\", ds, np.nanmean(omega, axis=0))\n",
    "    exportBand(b, \"med\", ds, np.nanmedian(omega, axis=0))\n",
    "    exportBand(b, \"std\", ds, np.nanstd(omega, axis=0))    \n",
    "    q25 = np.nanpercentile(omega, 25, axis=0)\n",
    "    q75 = np.nanpercentile(omega, 75, axis=0)\n",
    "    exportBand(b, \"q25\", ds, q25)\n",
    "    exportBand(b, \"q75\", ds, q75)\n",
    "    exportBand(b, \"iqr\", ds, q75 - q25)\n",
    "    \n",
    "    exportBand(b, \"coverage\", ds, coverage)"
   ]
  },
  {
   "cell_type": "code",
   "execution_count": 11,
   "metadata": {},
   "outputs": [],
   "source": [
    "# create final VRT\n",
    "metrics = []\n",
    "for f in os.listdir(os.path.join(os.getcwd(), studyArea)):\n",
    "    if f.endswith(\"q25.tif\"):\n",
    "        metrics.append(os.path.join(os.getcwd(), studyArea, f))\n",
    "metrics.sort()\n",
    "\n",
    "outVRT = os.path.join(inputDir, studyArea + \"_omega.vrt\")\n",
    "gdal.BuildVRT(destName = outVRT,     \n",
    "              srcDSOrSrcDSTab = metrics,\n",
    "              separate = True).FlushCache() "
   ]
  },
  {
   "cell_type": "code",
   "execution_count": null,
   "metadata": {},
   "outputs": [],
   "source": []
  },
  {
   "cell_type": "code",
   "execution_count": null,
   "metadata": {},
   "outputs": [],
   "source": []
  },
  {
   "cell_type": "code",
   "execution_count": null,
   "metadata": {},
   "outputs": [],
   "source": []
  },
  {
   "cell_type": "code",
   "execution_count": null,
   "metadata": {},
   "outputs": [],
   "source": []
  },
  {
   "cell_type": "code",
   "execution_count": null,
   "metadata": {},
   "outputs": [],
   "source": [
    "dsOmega = gdal.Open(outVRT)\n",
    "imgOmega = dsOmega.ReadAsArray()\n",
    "\n",
    "def bandNorm(band):\n",
    "    minVal = np.nanpercentile(band, 2)  \n",
    "    maxVal = np.nanpercentile(band, 98)\n",
    "    n = (band - minVal) / (maxVal - minVal)\n",
    "    n[n < 0] = 0\n",
    "    n[n > 1] = 1\n",
    "    return n\n",
    "\n",
    "r = bandNorm(imgOmega[5, :, :])\n",
    "g = bandNorm(imgOmega[3, :, :])\n",
    "b = bandNorm(imgOmega[0, :, :])\n",
    "rgb = np.dstack([r, g, b])\n",
    "\n",
    "plt.figure(figsize=(25, 25))\n",
    "plt.imshow(rgb)\n",
    "plt.show()"
   ]
  },
  {
   "cell_type": "code",
   "execution_count": null,
   "metadata": {},
   "outputs": [],
   "source": []
  },
  {
   "cell_type": "code",
   "execution_count": null,
   "metadata": {},
   "outputs": [],
   "source": []
  },
  {
   "cell_type": "code",
   "execution_count": null,
   "metadata": {},
   "outputs": [],
   "source": []
  }
 ],
 "metadata": {
  "kernelspec": {
   "display_name": "Python 3",
   "language": "python",
   "name": "python3"
  },
  "language_info": {
   "codemirror_mode": {
    "name": "ipython",
    "version": 3
   },
   "file_extension": ".py",
   "mimetype": "text/x-python",
   "name": "python",
   "nbconvert_exporter": "python",
   "pygments_lexer": "ipython3",
   "version": "3.6.6"
  }
 },
 "nbformat": 4,
 "nbformat_minor": 2
}
